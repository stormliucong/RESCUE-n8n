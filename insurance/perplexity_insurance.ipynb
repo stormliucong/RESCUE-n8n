{
 "cells": [
  {
   "cell_type": "markdown",
   "metadata": {},
   "source": [
    "### Obtaining Insurance Companies Names"
   ]
  },
  {
   "cell_type": "code",
   "execution_count": null,
   "metadata": {},
   "outputs": [
    {
     "name": "stdout",
     "output_type": "stream",
     "text": [
      "ChatCompletion(id='f9b4fd1f-11c8-4713-b599-b3ac5bba6850', choices=[Choice(finish_reason=None, index=0, logprobs=None, message=ChatCompletionMessage(content='{\\n  \"companies\": [\\n    \"Aetna\",\\n    \"Avera Health Plans\",\\n    \"BCBS Federal Employee Plan\",\\n    \"Cigna\",\\n    \"HealthPartners\",\\n    \"Medica Health Plans\",\\n    \"Medicare\",\\n    \"Sanford Health Plan\",\\n    \"UnitedHealthcare\"\\n  ]\\n}', refusal=None, role='assistant', audio=None, function_call=None, tool_calls=None), delta={'role': 'assistant', 'content': ''})], created=1742337842, model='sonar-pro', object='chat.completion', service_tier=None, system_fingerprint=None, usage=CompletionUsage(completion_tokens=68, prompt_tokens=77, total_tokens=145, completion_tokens_details=None, prompt_tokens_details=None, citation_tokens=7335, num_search_queries=2), citations=['https://www.genedx.com/provider-billing/insurance-billing/', 'https://www.bioreference.com/?s=GeneDx', 'https://www.genedx.com/provider-billing/', 'https://www.genedx.com/ordering/', 'https://www.genedx.com/wp-content/uploads/2025/01/TR-003-Epilepsy-Partnership-Program-TRF-v241107.pdf', 'https://www.genedx.com', 'https://www.genedx.com/wp-content/uploads/2024/08/GeneDx_Billing_00081.pdf', 'https://www.genedx.com/patient-billing/', 'https://www.genedx.com/commercial-insurance-in-network-contracts/', 'https://www.genedx.com/get-exome/', 'https://www.aetna.com/content/dam/aetna/pdfs/health-care-professionals/par_non_par1..18.22.pdf', 'https://www.genomemedical.com/insurance-coverage/', 'https://www.genedx.com/financial-assistance-program/'])\n"
     ]
    }
   ],
   "source": [
    "from openai import OpenAI\n",
    "import json\n",
    "# Replace with your actual Perplexity AI API key.\n",
    "API_KEY = \"\""
   ]
  },
  {
   "cell_type": "code",
   "execution_count": null,
   "metadata": {},
   "outputs": [],
   "source": [
    "\n",
    "\n",
    "messages = [\n",
    "    {\n",
    "        \"role\": \"system\",\n",
    "        \"content\": (\n",
    "            \"You are an artificial intelligence assistant and you need to \"\n",
    "            \"engage in a helpful, detailed, polite conversation with a user.\"\n",
    "        ),\n",
    "    },\n",
    "    {   \n",
    "        \"role\": \"user\",\n",
    "        \"content\": (\n",
    "            \"List the all the medical insurance companies that are in-network with GeneDx.\"\n",
    "            \"Please output the results in JSON format\"\n",
    "            \"The output should have a single fields called companies containing a list of insurance companies. Do not output anything else apart from this list. Do not include any introduction.\"\n",
    "\n",
    "        ),\n",
    "    },\n",
    "]\n",
    "\n",
    "client = OpenAI(api_key=API_KEY, base_url=\"https://api.perplexity.ai\")\n",
    "\n",
    "# chat completion without streaming\n",
    "response = client.chat.completions.create(\n",
    "    model=\"sonar-pro\",\n",
    "    messages=messages,\n",
    ")\n",
    "print(response)\n",
    "\n",
    "# chat completion with streaming\n",
    "response_stream = client.chat.completions.create(\n",
    "    model=\"sonar-pro\",\n",
    "    messages=messages,\n",
    "    stream=False,\n",
    ")"
   ]
  },
  {
   "cell_type": "code",
   "execution_count": 8,
   "metadata": {},
   "outputs": [
    {
     "data": {
      "text/plain": [
       "['Aetna',\n",
       " 'Avera Health Plans',\n",
       " 'BCBS Federal Employee Plan',\n",
       " 'Cigna',\n",
       " 'HealthPartners',\n",
       " 'Medica Health Plans',\n",
       " 'Medicare',\n",
       " 'Sanford Health Plan',\n",
       " 'UnitedHealthcare',\n",
       " 'Medicaid',\n",
       " 'Tricare']"
      ]
     },
     "execution_count": 8,
     "metadata": {},
     "output_type": "execute_result"
    }
   ],
   "source": [
    "companies_list_str = response_stream.choices[0].message.content\n",
    "companies = json.loads(companies_list_str)[\"companies\"]\n",
    "companies"
   ]
  },
  {
   "cell_type": "markdown",
   "metadata": {},
   "source": [
    "### Iteration 2: Obtaining Policy PDFs for Each Insurance Company"
   ]
  },
  {
   "cell_type": "code",
   "execution_count": null,
   "metadata": {},
   "outputs": [
    {
     "name": "stdout",
     "output_type": "stream",
     "text": [
      "Error fetching PDFs for Aetna: Expecting value: line 1 column 1 (char 0)\n",
      "Error fetching PDFs for HealthPartners: Expecting value: line 1 column 1 (char 0)\n"
     ]
    }
   ],
   "source": [
    "import requests\n",
    "import json\n",
    "\n",
    "failed_searches = []\n",
    "\n",
    "URL = \"https://api.perplexity.ai/chat/completions\"\n",
    "\n",
    "# Set up request headers\n",
    "headers = {\n",
    "    \"Authorization\": f\"Bearer {API_KEY}\",\n",
    "    \"Content-Type\": \"application/json\"\n",
    "}\n",
    "\n",
    "\n",
    "# Function to search for PDF policy documents related to genetic testing\n",
    "def fetch_genetic_testing_pdfs(company):\n",
    "    \"\"\"\n",
    "    Queries Perplexity AI to find PDF files containing genetic testing policies for a given insurance company.\n",
    "\n",
    "    Args:\n",
    "        company (str): The name of the insurance company.\n",
    "\n",
    "    Returns:\n",
    "        list: A list of PDF URLs found in the search.\n",
    "    \"\"\"\n",
    "    messages = [\n",
    "        {\"role\": \"system\", \"content\": \"You are a helpful AI assistant.\"},\n",
    "        {\"role\": \"user\", \"content\": (\n",
    "            \"Find and list all the links to official policy documents that contain genetic testing coverage policies for the insurance company '{company}'.\"\n",
    "            \"Include both PDF files and webpage URLs if the information is only available on the website.\"\n",
    "            \"Only include links from official sources such as the insurance company's website or regulatory bodies. \"\n",
    "            \"Exclude links from news articles, blog posts, or discussion forums.\"\n",
    "            \"If the policy is available as a PDF, return the direct PDF link under the key \\\"pdf_links\\\".\"\n",
    "            \"If the policy is available only as an HTML webpage, return the webpage URL under the key \\\"webpage_links\\\". \"\n",
    "            \"The response must be strictly in JSON format with two single keys, \\\"pdf_links\\\", containing an array of valid PDF URLs, and \\\"webpage_links\\\", containing an array of valid webpage URLs. \"\n",
    "            \"Do not include any additional text or explanations—only the JSON object.\"\n",
    "        )}\n",
    "    ]\n",
    "\n",
    "    payload = {\n",
    "        \"model\": \"sonar-pro\",\n",
    "        \"messages\": messages,\n",
    "    }\n",
    "\n",
    "    response = requests.post(URL, headers=headers, json=payload)\n",
    "\n",
    "    try:\n",
    "        response_data = response.json()\n",
    "        pdf_list_str = response_data[\"choices\"][0][\"message\"][\"content\"]\n",
    "        pdf_links = json.loads(pdf_list_str).get(\"pdf_links\", [])\n",
    "        return pdf_links\n",
    "    except (json.JSONDecodeError, KeyError) as e:\n",
    "        print(f\"Error fetching PDFs for {company}: {e}\")\n",
    "        failed_searches.append(company)\n",
    "        return []\n",
    "\n",
    "# Dictionary to store results: {company_name: [list of PDF links]}\n",
    "company_policies = {}\n",
    "\n",
    "# Loop over each insurance company and fetch PDF links\n",
    "for company in companies:\n",
    "    company_policies[company] = fetch_genetic_testing_pdfs(company)"
   ]
  },
  {
   "cell_type": "code",
   "execution_count": 5,
   "metadata": {},
   "outputs": [],
   "source": [
    "for company in failed_searches:\n",
    "    company_policies[company] = fetch_genetic_testing_pdfs(company)"
   ]
  },
  {
   "cell_type": "code",
   "execution_count": 10,
   "metadata": {},
   "outputs": [
    {
     "name": "stdout",
     "output_type": "stream",
     "text": [
      "{\n",
      "    \"Aetna\": [],\n",
      "    \"Avera Health Plans\": [\n",
      "        \"https://static.cigna.com/assets/chcp/pdf/coveragePolicies/medical/mm_0518_coveragepositioncriteria_genetic_cancer_syndromes.pdf\",\n",
      "        \"https://static.cigna.com/assets/chcp/pdf/coveragePolicies/medical/mm_0052_coveragepositioncriteria_genetic_testing.pdf\",\n",
      "        \"https://www.uhcprovider.com/content/dam/provider/docs/public/policies/comm-medical-drug/genetic-testing-hereditary-cancer.pdf\"\n",
      "    ],\n",
      "    \"BCBS Federal Employee Plan\": [\n",
      "        \"https://partner.medica.com/-/media/documents/provider/coverage-policies/genetic-testing-general-approach-to-genetic-testing.pdf?la=en&hash=B71D2199B66A946C0C3D8899DAE3CD4F\"\n",
      "    ],\n",
      "    \"Cigna\": [\n",
      "        \"https://partner.medica.com/-/media/documents/provider/coverage-policies/genetic-testing-general-approach-to-genetic-testing.pdf?la=en&hash=B71D2199B66A946C0C3D8899DAE3CD4F\"\n",
      "    ],\n",
      "    \"HealthPartners\": [],\n",
      "    \"Medica Health Plans\": [\n",
      "        \"https://static.cigna.com/assets/chcp/pdf/coveragePolicies/medical/mm_0518_coveragepositioncriteria_genetic_cancer_syndromes.pdf\",\n",
      "        \"https://static.cigna.com/assets/chcp/pdf/coveragePolicies/medical/mm_0052_coveragepositioncriteria_genetic_testing.pdf\"\n",
      "    ],\n",
      "    \"Medicare\": [\n",
      "        \"https://static.cigna.com/assets/chcp/pdf/coveragePolicies/medical/mm_0518_coveragepositioncriteria_genetic_cancer_syndromes.pdf\",\n",
      "        \"https://static.cigna.com/assets/chcp/pdf/coveragePolicies/medical/mm_0052_coveragepositioncriteria_genetic_testing.pdf\",\n",
      "        \"https://www.uhcprovider.com/content/dam/provider/docs/public/policies/comm-medical-drug/genetic-testing-hereditary-cancer.pdf\"\n",
      "    ],\n",
      "    \"Sanford Health Plan\": [\n",
      "        \"https://static.cigna.com/assets/chcp/pdf/coveragePolicies/medical/mm_0518_coveragepositioncriteria_genetic_cancer_syndromes.pdf\",\n",
      "        \"https://static.cigna.com/assets/chcp/pdf/coveragePolicies/medical/mm_0052_coveragepositioncriteria_genetic_testing.pdf\",\n",
      "        \"https://www.uhcprovider.com/content/dam/provider/docs/public/policies/comm-medical-drug/genetic-testing-hereditary-cancer.pdf\"\n",
      "    ],\n",
      "    \"UnitedHealthcare\": [\n",
      "        \"https://static.cigna.com/assets/chcp/pdf/coveragePolicies/medical/mm_0518_coveragepositioncriteria_genetic_cancer_syndromes.pdf\",\n",
      "        \"https://static.cigna.com/assets/chcp/pdf/coveragePolicies/medical/mm_0052_coveragepositioncriteria_genetic_testing.pdf\"\n",
      "    ],\n",
      "    \"Medicaid\": [\n",
      "        \"https://static.cigna.com/assets/chcp/pdf/coveragePolicies/medical/mm_0518_coveragepositioncriteria_genetic_cancer_syndromes.pdf\",\n",
      "        \"https://static.cigna.com/assets/chcp/pdf/coveragePolicies/medical/mm_0052_coveragepositioncriteria_genetic_testing.pdf\",\n",
      "        \"https://www.uhcprovider.com/content/dam/provider/docs/public/policies/comm-medical-drug/genetic-testing-hereditary-cancer.pdf\"\n",
      "    ],\n",
      "    \"Tricare\": [\n",
      "        \"https://static.cigna.com/assets/chcp/pdf/coveragePolicies/medical/mm_0518_coveragepositioncriteria_genetic_cancer_syndromes.pdf\",\n",
      "        \"https://static.cigna.com/assets/chcp/pdf/coveragePolicies/medical/mm_0052_coveragepositioncriteria_genetic_testing.pdf\",\n",
      "        \"https://www.uhcprovider.com/content/dam/provider/docs/public/policies/comm-medical-drug/genetic-testing-hereditary-cancer.pdf\"\n",
      "    ]\n",
      "}\n"
     ]
    }
   ],
   "source": [
    "# Print the dictionary (clean output)\n",
    "print(json.dumps(company_policies, indent=4))"
   ]
  },
  {
   "cell_type": "code",
   "execution_count": 31,
   "metadata": {},
   "outputs": [],
   "source": [
    "#fetch_genetic_testing_pdfs('UnitedHealth Group')"
   ]
  }
 ],
 "metadata": {
  "kernelspec": {
   "display_name": "Python 3",
   "language": "python",
   "name": "python3"
  },
  "language_info": {
   "codemirror_mode": {
    "name": "ipython",
    "version": 3
   },
   "file_extension": ".py",
   "mimetype": "text/x-python",
   "name": "python",
   "nbconvert_exporter": "python",
   "pygments_lexer": "ipython3",
   "version": "3.12.9"
  }
 },
 "nbformat": 4,
 "nbformat_minor": 2
}
